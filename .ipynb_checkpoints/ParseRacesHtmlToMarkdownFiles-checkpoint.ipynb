{
 "cells": [
  {
   "cell_type": "code",
   "execution_count": 1,
   "metadata": {
    "collapsed": false
   },
   "outputs": [
    {
     "name": "stdout",
     "output_type": "stream",
     "text": [
      "</body>\n",
      "</html>\n"
     ]
    }
   ],
   "source": [
    "from lxml import html\n",
    "\n",
    "from bs4 import BeautifulSoup\n",
    "\n",
    "with open(\"races.html\") as html_file:\n",
    "    h = html_file.read()\n",
    "    \n",
    "tree = html.fromstring(h)\n",
    "soup = soup = BeautifulSoup(h,\"lxml\")\n",
    "\n",
    "print soup.prettify()[1000:2000]"
   ]
  },
  {
   "cell_type": "code",
   "execution_count": 2,
   "metadata": {
    "collapsed": false
   },
   "outputs": [],
   "source": [
    "race_data = soup.find_all(\"td\")"
   ]
  },
  {
   "cell_type": "code",
   "execution_count": 3,
   "metadata": {
    "collapsed": false
   },
   "outputs": [
    {
     "name": "stdout",
     "output_type": "stream",
     "text": [
      "[<td>{{ race.racetitle }}</td>, <td>{{ race.racedate | date_to_string }}</td>, <td>{{ race.racedistance }}</td>, <td>{{race.overalltime}} </td>, <td>{{ race.overallplace}}</td>, <td>{{ race.divisionplace}}</td>, <td>{{race.racedetails}}</td>, <td>{{race.linktoresults}}</td>]\n"
     ]
    }
   ],
   "source": [
    "print race_data\n",
    "race_data =  [x.get_text() for x in race_data]"
   ]
  },
  {
   "cell_type": "code",
   "execution_count": 4,
   "metadata": {
    "collapsed": true
   },
   "outputs": [],
   "source": [
    "def chunks(l, n):\n",
    "    \"\"\"Yield successive n-sized chunks from l.\"\"\"\n",
    "    for i in range(0, len(l), n):\n",
    "        yield l[i:i + n]"
   ]
  },
  {
   "cell_type": "code",
   "execution_count": 5,
   "metadata": {
    "collapsed": true
   },
   "outputs": [],
   "source": [
    "chunky = chunks(race_data,8)"
   ]
  },
  {
   "cell_type": "code",
   "execution_count": 6,
   "metadata": {
    "collapsed": false
   },
   "outputs": [],
   "source": [
    "chunky = [x for x in chunky]"
   ]
  },
  {
   "cell_type": "code",
   "execution_count": 7,
   "metadata": {
    "collapsed": false
   },
   "outputs": [
    {
     "name": "stdout",
     "output_type": "stream",
     "text": [
      "[[u'{{ race.racetitle }}', u'{{ race.racedate | date_to_string }}', u'{{ race.racedistance }}', u'{{race.overalltime}} ', u'{{ race.overallplace}}', u'{{ race.divisionplace}}', u'{{race.racedetails}}', u'{{race.linktoresults}}']]\n"
     ]
    }
   ],
   "source": [
    "print chunky"
   ]
  },
  {
   "cell_type": "code",
   "execution_count": 8,
   "metadata": {
    "collapsed": false
   },
   "outputs": [
    {
     "data": {
      "text/plain": [
       "1"
      ]
     },
     "execution_count": 8,
     "metadata": {},
     "output_type": "execute_result"
    }
   ],
   "source": [
    "len(chunky)"
   ]
  },
  {
   "cell_type": "code",
   "execution_count": 9,
   "metadata": {
    "collapsed": false
   },
   "outputs": [],
   "source": [
    "titles = [\"racetitle\",\"racedate\",\"racedistance\",\"overalltime\",\"overallplace\",\"divisionplace\",\"racedetails\",\"linktoresults\"]\n",
    "\n",
    "for i in range(len(chunky)):\n",
    "    with open(chunky[i][0].replace(\" \",\"-\").lower()+\".markdown\",\"w\") as outfile:\n",
    "        for title, value in zip(titles,chunky[i]):\n",
    "            outfile.write(title+\": \"+value+\"\\n\")\n",
    "            \n",
    "\n",
    "        "
   ]
  },
  {
   "cell_type": "code",
   "execution_count": null,
   "metadata": {
    "collapsed": true
   },
   "outputs": [],
   "source": []
  }
 ],
 "metadata": {
  "kernelspec": {
   "display_name": "Python 2",
   "language": "python",
   "name": "python2"
  },
  "language_info": {
   "codemirror_mode": {
    "name": "ipython",
    "version": 2
   },
   "file_extension": ".py",
   "mimetype": "text/x-python",
   "name": "python",
   "nbconvert_exporter": "python",
   "pygments_lexer": "ipython2",
   "version": "2.7.12"
  }
 },
 "nbformat": 4,
 "nbformat_minor": 1
}
